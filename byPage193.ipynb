{
 "cells": [
  {
   "cell_type": "code",
   "execution_count": 59,
   "metadata": {},
   "outputs": [],
   "source": [
    "# deque 데크: 스택과 큐의 결합체 "
   ]
  },
  {
   "cell_type": "code",
   "execution_count": 60,
   "metadata": {},
   "outputs": [],
   "source": [
    "#from queue import Queue\n",
    "\n",
    "class Deque(Queue):\n",
    "    def __init__(self):\n",
    "        self.items = []\n",
    "    \n",
    "    def isEmpty(self):\n",
    "        return not bool(self.items)\n",
    "    \n",
    "    def enqueue(self,item): # 큐 뒤쪽에 항목을 삽입\n",
    "        self.items.insert(0,item)\n",
    "    \n",
    "    def dequeue(self): # 큐 앞쪽의 항목을 반환하고, 제거\n",
    "        value = self.items.pop() # pop 함수는 인자를 반환하고 제거 \n",
    "        if value is not None:\n",
    "            return value\n",
    "        else:\n",
    "            print(\"Queue is empty\")\n",
    "    \n",
    "    def size(self):\n",
    "        return len(self.items)\n",
    "    \n",
    "    def peek(self):\n",
    "        if self.items:\n",
    "            return self.items[-1]\n",
    "        else:\n",
    "            print(\"Queue is Empty\")\n",
    "    \n",
    "    def enqueue_back(self,item):\n",
    "        self.items.append(item)\n",
    "    \n",
    "    def dequeue_front(self):\n",
    "        value = self.items.pop(0)\n",
    "        if value is not None:\n",
    "            return value\n",
    "        else:\n",
    "            print(\"Deque is empty.\")"
   ]
  },
  {
   "cell_type": "code",
   "execution_count": 64,
   "metadata": {},
   "outputs": [
    {
     "name": "stdout",
     "output_type": "stream",
     "text": [
      "데크(Deque)가 비었나요?True\n",
      "데크에 숫자 0~9숫자 추가\n",
      "데크 크기: 5\n",
      "peek: 0\n",
      "dequeue: 0\n",
      "peek 1\n",
      "[4, 3, 2, 1]\n",
      "dequeue_front 4\n",
      "enqueue_back None\n",
      "[3, 2, 1, 500]\n"
     ]
    }
   ],
   "source": [
    "if __name__ == \"__main__\":\n",
    "    deque = Deque()\n",
    "    \n",
    "    #큐 방식\n",
    "    print(\"데크(Deque)가 비었나요?{0}\".format(deque.isEmpty()))\n",
    "    print(\"데크에 숫자 0~9숫자 추가\")\n",
    "    for i in range(5):\n",
    "        deque.enqueue(i)\n",
    "    print(\"데크 크기: {0}\".format(deque.size()))\n",
    "    print(\"peek:\",deque.peek())\n",
    "    print(\"dequeue:\",deque.dequeue())\n",
    "    print(\"peek\",deque.peek())\n",
    "    print(deque.items)\n",
    "    \n",
    "    #스택 방식\n",
    "    print(\"dequeue_front\",deque.dequeue_front()) \n",
    "    print(\"enqueue_back\",deque.enqueue_back(500))\n",
    "    print(deque.items)"
   ]
  },
  {
   "cell_type": "code",
   "execution_count": null,
   "metadata": {},
   "outputs": [],
   "source": []
  }
 ],
 "metadata": {
  "kernelspec": {
   "display_name": "Python 3",
   "language": "python",
   "name": "python3"
  },
  "language_info": {
   "codemirror_mode": {
    "name": "ipython",
    "version": 3
   },
   "file_extension": ".py",
   "mimetype": "text/x-python",
   "name": "python",
   "nbconvert_exporter": "python",
   "pygments_lexer": "ipython3",
   "version": "3.7.4"
  }
 },
 "nbformat": 4,
 "nbformat_minor": 2
}
