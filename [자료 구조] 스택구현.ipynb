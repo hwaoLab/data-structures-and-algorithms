{
 "cells": [
  {
   "cell_type": "markdown",
   "metadata": {},
   "source": [
    "#### 12강. 스택의 응용 - 수식의 후위 표기법 (Postfix Notation)\n",
    "- 피연산자이면, 바로 출력\n",
    "- '('이면 스택에 push, ')'이면 '('이 나올 때까지 스택에서 pop 출력\n",
    "- 연산자이면 스택에서 이보다 높(거나 같)은 우선순위 것들을 pop 출력\n",
    "\n",
    "* 스택의 peek() 연산을 이용하면, 연산자 우선순위 비교 용이\n",
    "* while not opStack.isEmpty() -> 스택에 남아있는 연산자 모두 pop"
   ]
  },
  {
   "cell_type": "code",
   "execution_count": 38,
   "metadata": {},
   "outputs": [],
   "source": [
    "# input = S 는 영문 대문자 알파벳 한 글자로 이루어지는 변수 A - Z 까지와 4칙연산을 나타내는 연산자 기호 +, -, *, /, 그리고 여는 괄호와 닫는 괄호 (, ) 로 이루어져 있으며 공백 문자는 포함하지 않는 것으로 가정"
   ]
  },
  {
   "cell_type": "code",
   "execution_count": 39,
   "metadata": {},
   "outputs": [],
   "source": [
    "class ArrayStack:\n",
    "\n",
    "    def __init__(self):\n",
    "        self.data = []\n",
    "\n",
    "    def size(self):\n",
    "        return len(self.data)\n",
    "\n",
    "    def isEmpty(self):\n",
    "        return self.size() == 0\n",
    "\n",
    "    def push(self, item):\n",
    "        self.data.append(item)\n",
    "\n",
    "    def pop(self):\n",
    "        return self.data.pop()\n",
    "\n",
    "    def peek(self):\n",
    "        return self.data[-1]\n",
    "\n",
    "prec = {\n",
    "    '*': 3, '/': 3,\n",
    "    '+': 2, '-': 2,\n",
    "    '(': 1\n",
    "}\n",
    "\n",
    "def solution(S):\n",
    "    opStack = ArrayStack()\n",
    "    answer = ''\n",
    "    return answer"
   ]
  },
  {
   "cell_type": "code",
   "execution_count": 40,
   "metadata": {},
   "outputs": [
    {
     "name": "stdout",
     "output_type": "stream",
     "text": [
      "ABC*+D-\n"
     ]
    }
   ],
   "source": [
    "S =\"(A+B)*C\"\n",
    "S2 = \"A+(C+B)*B\"\n",
    "S3 = \"A+B*C-D\"\n",
    "\n",
    "onStack = ArrayStack()\n",
    "answer = \"\"\n",
    "\n",
    "for element in S3:\n",
    "    if element == \"(\":\n",
    "        onStack.push(element)\n",
    "    elif element == \")\":\n",
    "        while not onStack.isEmpty():\n",
    "            if onStack.peek() == \"(\":\n",
    "                onStack.pop()\n",
    "                break\n",
    "            else: \n",
    "                answer += onStack.pop()\n",
    "            \n",
    "    elif element in prec:\n",
    "        if onStack.isEmpty():\n",
    "            onStack.push(element)\n",
    "        else:\n",
    "            if prec[element] < prec[onStack.peek()]:  # 들어오는 원소 ele가 stack.peek()보다 우선순위가 낮거나 같은 경우\n",
    "                while not onStack.isEmpty():\n",
    "                    answer += onStack.pop() \n",
    "                onStack.push(element)\n",
    "                \n",
    "            else:# Case2. 우선순위가 높은 경우, \n",
    "                onStack.push(element)\n",
    "    else:\n",
    "        answer += element\n",
    "while not onStack.isEmpty():\n",
    "    answer += onStack.pop() \n",
    "print(answer)"
   ]
  },
  {
   "cell_type": "code",
   "execution_count": 50,
   "metadata": {},
   "outputs": [],
   "source": [
    "def solution(S):\n",
    "    onStack = ArrayStack()\n",
    "    answer = \"\"\n",
    "    for element in S:\n",
    "        if element == \"(\":\n",
    "            onStack.push(element)\n",
    "        elif element == \")\":\n",
    "            while not onStack.isEmpty():\n",
    "                if onStack.peek() == \"(\":\n",
    "                    onStack.pop()\n",
    "                    break\n",
    "                else: \n",
    "                    answer += onStack.pop()\n",
    "\n",
    "        elif element in prec:\n",
    "            if onStack.isEmpty():\n",
    "                onStack.push(element)\n",
    "            else:\n",
    "                if prec[element] <= prec[onStack.peek()]:  # 들어오는 원소 ele가 stack.peek()보다 우선순위가 낮거나 같은 경우\n",
    "                    while not onStack.isEmpty():\n",
    "                        answer += onStack.pop() \n",
    "                    onStack.push(element)\n",
    "                else:# Case2. 우선순위가 높은 경우, \n",
    "                    onStack.push(element)\n",
    "        else:\n",
    "            answer += element\n",
    "    while not onStack.isEmpty():\n",
    "        answer += onStack.pop()\n",
    "    return answer"
   ]
  },
  {
   "cell_type": "code",
   "execution_count": 25,
   "metadata": {},
   "outputs": [
    {
     "data": {
      "text/plain": [
       "'ACB+B*+'"
      ]
     },
     "execution_count": 25,
     "metadata": {},
     "output_type": "execute_result"
    }
   ],
   "source": [
    "solution(S2)"
   ]
  },
  {
   "cell_type": "markdown",
   "metadata": {},
   "source": [
    "#### 13강. 후위 표기 수식 계산 "
   ]
  },
  {
   "cell_type": "code",
   "execution_count": 81,
   "metadata": {},
   "outputs": [],
   "source": [
    "class ArrayStack:\n",
    "\n",
    "    def __init__(self):\n",
    "        self.data = []\n",
    "\n",
    "    def size(self):\n",
    "        return len(self.data)\n",
    "\n",
    "    def isEmpty(self):\n",
    "        return self.size() == 0\n",
    "\n",
    "    def push(self, item):\n",
    "        self.data.append(item)\n",
    "\n",
    "    def pop(self):\n",
    "        return self.data.pop()\n",
    "\n",
    "    def peek(self):\n",
    "        return self.data[-1]\n",
    "\n",
    "\n",
    "def splitTokens(exprStr):\n",
    "    tokens = []\n",
    "    val = 0\n",
    "    valProcessing = False\n",
    "    for c in exprStr:\n",
    "        if c == ' ':\n",
    "            continue\n",
    "        if c in '0123456789':\n",
    "            val = val * 10 + int(c)\n",
    "            valProcessing = True\n",
    "        else:\n",
    "            if valProcessing:\n",
    "                tokens.append(val)\n",
    "                val = 0\n",
    "            valProcessing = False\n",
    "            tokens.append(c)\n",
    "    if valProcessing:\n",
    "        tokens.append(val)\n",
    "\n",
    "    return tokens\n",
    "\n",
    "\n",
    "def infixToPostfix(tokenList):\n",
    "    prec = {\n",
    "        '*': 3,\n",
    "        '/': 3,\n",
    "        '+': 2,\n",
    "        '-': 2,\n",
    "        '(': 1,\n",
    "    }\n",
    "\n",
    "    onStack = ArrayStack()\n",
    "    postfixList = []\n",
    "    \n",
    "    for element in tokenList:\n",
    "        element = str(element)\n",
    "        if element == \"(\":\n",
    "            onStack.push(element)\n",
    "        elif element == \")\":\n",
    "            while not onStack.isEmpty():\n",
    "                if onStack.peek() == \"(\":\n",
    "                    onStack.pop()\n",
    "                    break\n",
    "                else: \n",
    "                    postfixList.append(onStack.pop())\n",
    "\n",
    "        elif element in prec:\n",
    "            if onStack.isEmpty():\n",
    "                onStack.push(element)\n",
    "            else:\n",
    "                if prec[element] <= prec[onStack.peek()]:  # 들어오는 원소 ele가 stack.peek()보다 우선순위가 낮거나 같은 경우\n",
    "                    while not onStack.isEmpty():\n",
    "                        postfixList.append(onStack.pop())\n",
    "                    onStack.push(element)\n",
    "                else:# Case2. 우선순위가 높은 경우, \n",
    "                    onStack.push(element)\n",
    "        else:\n",
    "            postfixList.append(element)\n",
    "    while not onStack.isEmpty():\n",
    "         postfixList.append(onStack.pop())\n",
    "    \n",
    "    return postfixList\n",
    "\n",
    "\n",
    "def postfixEval(tokenList):\n",
    "    onStack =  ArrayStack()\n",
    "    for element in tokenList:\n",
    "        if element == \"+\":\n",
    "            temp1 = int(onStack.pop())\n",
    "            temp2 = int(onStack.pop())\n",
    "            onStack.push(temp2 + temp1)\n",
    "        elif element == \"-\":\n",
    "            temp1 = int(onStack.pop())\n",
    "            temp2 = int(onStack.pop())\n",
    "            onStack.push(temp2 - temp1)\n",
    "        elif element == \"*\":\n",
    "            temp1 = int(onStack.pop())\n",
    "            temp2 = int(onStack.pop())\n",
    "            onStack.push(temp2 * temp1)\n",
    "        elif element == \"/\":\n",
    "            temp1 = int(onStack.pop())\n",
    "            temp2 = int(onStack.pop())\n",
    "            onStack.push(temp2 / temp1)\n",
    "\n",
    "        else: \n",
    "            onStack.push(element)\n",
    "    val = onStack.pop()\n",
    "    return val \n",
    "\n",
    "\n",
    "def solution(expr):\n",
    "    tokens = splitTokens(expr)\n",
    "    postfix = infixToPostfix(tokens)\n",
    "    val = postfixEval(postfix)\n",
    "    return val"
   ]
  },
  {
   "cell_type": "code",
   "execution_count": 84,
   "metadata": {},
   "outputs": [
    {
     "data": {
      "text/plain": [
       "['1', '5', '+', '4', '*', '5', '-']"
      ]
     },
     "execution_count": 84,
     "metadata": {},
     "output_type": "execute_result"
    }
   ],
   "source": [
    "expr = \"(1+5)*4-5\"\n",
    "tokens = splitTokens(expr)\n",
    "postfix = infixToPostfix(tokens)\n",
    "postfix"
   ]
  },
  {
   "cell_type": "code",
   "execution_count": 91,
   "metadata": {},
   "outputs": [
    {
     "data": {
      "text/plain": [
       "19"
      ]
     },
     "execution_count": 91,
     "metadata": {},
     "output_type": "execute_result"
    }
   ],
   "source": [
    "onStack =  ArrayStack()\n",
    "for element in postfix:\n",
    "    if element == \"+\":\n",
    "        temp1 = int(onStack.pop())\n",
    "        temp2 = int(onStack.pop())\n",
    "        onStack.push(temp2 + temp1)\n",
    "    elif element == \"-\":\n",
    "        temp1 = int(onStack.pop())\n",
    "        temp2 = int(onStack.pop())\n",
    "        onStack.push(temp2 - temp1)\n",
    "    elif element == \"*\":\n",
    "        temp1 = int(onStack.pop())\n",
    "        temp2 = int(onStack.pop())\n",
    "        onStack.push(temp2 * temp1)\n",
    "    elif element == \"/\":\n",
    "        temp1 = int(onStack.pop())\n",
    "        temp2 = int(onStack.pop())\n",
    "        onStack.push(temp2 / temp1)\n",
    "        \n",
    "    else: \n",
    "        onStack.push(element)\n",
    "val = onStack.pop()\n",
    "val "
   ]
  },
  {
   "cell_type": "code",
   "execution_count": null,
   "metadata": {},
   "outputs": [],
   "source": []
  }
 ],
 "metadata": {
  "kernelspec": {
   "display_name": "Python 3",
   "language": "python",
   "name": "python3"
  },
  "language_info": {
   "codemirror_mode": {
    "name": "ipython",
    "version": 3
   },
   "file_extension": ".py",
   "mimetype": "text/x-python",
   "name": "python",
   "nbconvert_exporter": "python",
   "pygments_lexer": "ipython3",
   "version": "3.7.4"
  }
 },
 "nbformat": 4,
 "nbformat_minor": 2
}
