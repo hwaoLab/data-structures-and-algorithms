{
 "cells": [
  {
   "cell_type": "code",
   "execution_count": 58,
   "metadata": {},
   "outputs": [],
   "source": [
    "# 2_stack_with_node\n",
    "# 리스트 대신 노드(객체)의 컨테이너로 스텍을 구현"
   ]
  },
  {
   "cell_type": "code",
   "execution_count": 59,
   "metadata": {},
   "outputs": [],
   "source": [
    "class Node(object):\n",
    "    def __init__(self, value = None, pointer =None):\n",
    "        self.value = value \n",
    "        self.pointer = pointer\n",
    "\n",
    "class Stack(object):\n",
    "    def __init__(self):\n",
    "        self.head = None\n",
    "        self.count = 0\n",
    "    \n",
    "    def isEmpty(self):\n",
    "        return not bool(self.head) #not bool(24) -> False(zero가 아니면 bool은 True 이며, not bool은 반대결과)\n",
    "    \n",
    "    def push(self,item):\n",
    "        self.head = Node(item,self.head)\n",
    "        self.count +=1 \n",
    "    \n",
    "    def pop(self):\n",
    "        if self.count >0 and self.head:\n",
    "            node = self.head\n",
    "            self.head = node.pointer #node에는 값 value와 위치 pointer 모두 가지고 있다\n",
    "            self.count -=1 \n",
    "            return node.value\n",
    "        else:\n",
    "            print(\"Stack is empty\")\n",
    "    def peek(self):\n",
    "        if self.count>0 and self.head:\n",
    "            return self.head.value\n",
    "        else:\n",
    "            print(\"Stack is empty\")\n",
    "    \n",
    "    def size(self):\n",
    "        return self.count\n",
    "    \n",
    "    def _printList(self):\n",
    "        node = self.head\n",
    "        while node:\n",
    "            print(node.value,end = \" \")\n",
    "            node = node.pointer \n",
    "        print()"
   ]
  },
  {
   "cell_type": "code",
   "execution_count": 60,
   "metadata": {},
   "outputs": [
    {
     "name": "stdout",
     "output_type": "stream",
     "text": [
      "스택이 비었나요? True\n",
      "<__main__.Node object at 0x0000015CC44CA3C8>\n",
      "<__main__.Node object at 0x0000015CC44CA848>\n",
      "<__main__.Node object at 0x0000015CC44CA7C8>\n",
      "<__main__.Node object at 0x0000015CC44CA788>\n",
      "<__main__.Node object at 0x0000015CC44CA488>\n",
      "<__main__.Node object at 0x0000015CC43EDA48>\n",
      "<__main__.Node object at 0x0000015CC44CA708>\n",
      "<__main__.Node object at 0x0000015CC43ED448>\n",
      "<__main__.Node object at 0x0000015CC43ED8C8>\n",
      "<__main__.Node object at 0x0000015CC43ED3C8>\n",
      "9 8 7 6 5 4 3 2 1 0 \n"
     ]
    }
   ],
   "source": [
    "stack = Stack()\n",
    "print(\"스택이 비었나요? {0}\".format(stack.isEmpty()))\n",
    "for i in range(10):\n",
    "    stack.push(i)\n",
    "    print(stack.head)# Node 객체 자체가 주소값을 가짐\n",
    "stack._printList()"
   ]
  },
  {
   "cell_type": "code",
   "execution_count": 61,
   "metadata": {},
   "outputs": [
    {
     "name": "stdout",
     "output_type": "stream",
     "text": [
      "스택 크기: 10\n",
      "peek: 9\n",
      "pop: 9\n",
      "peek:8\n"
     ]
    }
   ],
   "source": [
    "print(\"스택 크기: {0}\".format(stack.size()))\n",
    "print(\"peek: {0}\\npop: {1}\\npeek:{2}\".format(stack.peek(),stack.pop(),stack.peek()))"
   ]
  },
  {
   "cell_type": "code",
   "execution_count": 65,
   "metadata": {},
   "outputs": [
    {
     "name": "stdout",
     "output_type": "stream",
     "text": [
      "스택이 비었나요? False\n",
      "8 7 6 5 4 3 2 1 0 \n",
      "None\n"
     ]
    }
   ],
   "source": [
    "print(\"스택이 비었나요? {0}\".format(stack.isEmpty()))\n",
    "print(stack._printList())"
   ]
  },
  {
   "cell_type": "code",
   "execution_count": 66,
   "metadata": {},
   "outputs": [],
   "source": [
    "# 큐: 스택과 다르게 항목이 들어온 순서대로 접근 가능 (FIFO:선입선출)\n",
    "# 1. 리스트로 구현하기"
   ]
  },
  {
   "cell_type": "code",
   "execution_count": 91,
   "metadata": {},
   "outputs": [],
   "source": [
    "class Queue(object):\n",
    "    def __init__(self):\n",
    "        self.items = []\n",
    "    \n",
    "    def isEmpty(self):\n",
    "        return not bool(self.items)\n",
    "    \n",
    "    def enqueue(self,item): # 큐 뒤쪽에 항목을 삽입\n",
    "        self.items.insert(0,item)\n",
    "    \n",
    "    def dequeue(self): # 큐 앞쪽의 항목을 반환하고, 제거\n",
    "        value = self.items.pop() # pop 함수는 인자를 반환하고 제거 \n",
    "        if value is not None:\n",
    "            return value\n",
    "        else:\n",
    "            print(\"Queue is empty\")\n",
    "    \n",
    "    def size(self):\n",
    "        return len(self.items)\n",
    "    \n",
    "    def peek(self):\n",
    "        if self.items:\n",
    "            return self.items[-1]\n",
    "        else:\n",
    "            print(\"Queue is Empty\")"
   ]
  },
  {
   "cell_type": "code",
   "execution_count": 92,
   "metadata": {},
   "outputs": [
    {
     "data": {
      "text/plain": [
       "True"
      ]
     },
     "execution_count": 92,
     "metadata": {},
     "output_type": "execute_result"
    }
   ],
   "source": [
    "queue = Queue()\n",
    "queue.isEmpty()"
   ]
  },
  {
   "cell_type": "code",
   "execution_count": 93,
   "metadata": {},
   "outputs": [
    {
     "name": "stdout",
     "output_type": "stream",
     "text": [
      "[0]\n",
      "[1, 0]\n",
      "[2, 1, 0]\n",
      "[3, 2, 1, 0]\n",
      "[4, 3, 2, 1, 0]\n",
      "[5, 4, 3, 2, 1, 0]\n",
      "[6, 5, 4, 3, 2, 1, 0]\n",
      "[7, 6, 5, 4, 3, 2, 1, 0]\n",
      "[8, 7, 6, 5, 4, 3, 2, 1, 0]\n",
      "[9, 8, 7, 6, 5, 4, 3, 2, 1, 0]\n"
     ]
    },
    {
     "data": {
      "text/plain": [
       "10"
      ]
     },
     "execution_count": 93,
     "metadata": {},
     "output_type": "execute_result"
    }
   ],
   "source": [
    "for i in range(10):\n",
    "    queue.enqueue(i) # index가 0 자리에 value을 입력하기 때문에, \n",
    "    print(queue.items)\n",
    "queue.size()"
   ]
  },
  {
   "cell_type": "code",
   "execution_count": 94,
   "metadata": {},
   "outputs": [
    {
     "data": {
      "text/plain": [
       "0"
      ]
     },
     "execution_count": 94,
     "metadata": {},
     "output_type": "execute_result"
    }
   ],
   "source": [
    "print(\"peek\",queue.peek())\n",
    "print(\"\")"
   ]
  },
  {
   "cell_type": "code",
   "execution_count": null,
   "metadata": {},
   "outputs": [],
   "source": []
  },
  {
   "cell_type": "code",
   "execution_count": null,
   "metadata": {},
   "outputs": [],
   "source": []
  }
 ],
 "metadata": {
  "kernelspec": {
   "display_name": "Python 3",
   "language": "python",
   "name": "python3"
  },
  "language_info": {
   "codemirror_mode": {
    "name": "ipython",
    "version": 3
   },
   "file_extension": ".py",
   "mimetype": "text/x-python",
   "name": "python",
   "nbconvert_exporter": "python",
   "pygments_lexer": "ipython3",
   "version": "3.7.4"
  }
 },
 "nbformat": 4,
 "nbformat_minor": 2
}
