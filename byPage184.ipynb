{
 "cells": [
  {
   "cell_type": "code",
   "execution_count": 6,
   "metadata": {},
   "outputs": [],
   "source": [
    "def open_file(filename):\n",
    "    fin = open(filename, encoding =\"utf8\") # 텍스트 읽기모드는 기본값\n",
    "    fout = open(filename, encoding =\"utf8\")\n"
   ]
  },
  {
   "cell_type": "code",
   "execution_count": 12,
   "metadata": {},
   "outputs": [],
   "source": [
    "def get_int(msg):\n",
    "    while True:\n",
    "        try:\n",
    "            i = int(input(msg))\n",
    "            return i\n",
    "        except ValueError as err:\n",
    "            print(err)"
   ]
  },
  {
   "cell_type": "code",
   "execution_count": 13,
   "metadata": {},
   "outputs": [
    {
     "name": "stdout",
     "output_type": "stream",
     "text": [
      "Enter your age: \n",
      "invalid literal for int() with base 10: ''\n",
      "Enter your age: \n",
      "invalid literal for int() with base 10: ''\n",
      "Enter your age: \n",
      "invalid literal for int() with base 10: ''\n",
      "Enter your age: \n",
      "invalid literal for int() with base 10: ''\n",
      "Enter your age: \n",
      "invalid literal for int() with base 10: ''\n",
      "Enter your age: 25\n"
     ]
    }
   ],
   "source": [
    "age = get_int(\"Enter your age: \")"
   ]
  },
  {
   "cell_type": "code",
   "execution_count": 33,
   "metadata": {},
   "outputs": [],
   "source": [
    "import pickle \n",
    "f= open(\"test.txt\", \"wb\")\n",
    "data = {1:\"python\",2:'you need'}\n",
    "pickle.dump(data,f) \n",
    "#pickle 모듈의 dump 함수를 사용하여 딕셔너리 객체인 data를 \n",
    "#그대로 파일에 저장하는 방법을 보여 준다.\n",
    "f.close()"
   ]
  },
  {
   "cell_type": "code",
   "execution_count": 35,
   "metadata": {},
   "outputs": [
    {
     "name": "stdout",
     "output_type": "stream",
     "text": [
      "{1: 'python', 2: 'you need'}\n"
     ]
    }
   ],
   "source": [
    "f = open(\"test.txt\",'rb')\n",
    "data = pickle.load(f)\n",
    "#다음은 pickle.dump로 저장한 파일을 pickle.load를 사용해서 원래 있던 딕셔너리 객체(data) 상태 그대로 불러오는 예이다.\n",
    "print(data)"
   ]
  },
  {
   "cell_type": "code",
   "execution_count": 39,
   "metadata": {},
   "outputs": [
    {
     "data": {
      "text/plain": [
       "'dst.txt'"
      ]
     },
     "execution_count": 39,
     "metadata": {},
     "output_type": "execute_result"
    }
   ],
   "source": [
    "import shutil\n",
    "shutil.copy(\"test.txt\",\"dst.txt\") #복사"
   ]
  },
  {
   "cell_type": "code",
   "execution_count": 51,
   "metadata": {},
   "outputs": [
    {
     "data": {
      "text/plain": [
       "['C:/Users/ghkdn\\\\3D Objects',\n",
       " 'C:/Users/ghkdn\\\\AppData',\n",
       " 'C:/Users/ghkdn\\\\Apple',\n",
       " 'C:/Users/ghkdn\\\\Application Data',\n",
       " 'C:/Users/ghkdn\\\\Contacts',\n",
       " 'C:/Users/ghkdn\\\\Cookies',\n",
       " 'C:/Users/ghkdn\\\\DataStructure_Algorithms',\n",
       " 'C:/Users/ghkdn\\\\Documents',\n",
       " 'C:/Users/ghkdn\\\\Downloads',\n",
       " 'C:/Users/ghkdn\\\\Dropbox',\n",
       " 'C:/Users/ghkdn\\\\EDA_Visualization',\n",
       " 'C:/Users/ghkdn\\\\Evernote',\n",
       " 'C:/Users/ghkdn\\\\Favorites',\n",
       " 'C:/Users/ghkdn\\\\Google 드라이브',\n",
       " 'C:/Users/ghkdn\\\\iCloudDrive',\n",
       " 'C:/Users/ghkdn\\\\IntelGraphicsProfiles',\n",
       " 'C:/Users/ghkdn\\\\Jupyter',\n",
       " 'C:/Users/ghkdn\\\\Links',\n",
       " 'C:/Users/ghkdn\\\\Local Settings',\n",
       " 'C:/Users/ghkdn\\\\MicrosoftEdgeBackups',\n",
       " 'C:/Users/ghkdn\\\\Music',\n",
       " 'C:/Users/ghkdn\\\\My Documents',\n",
       " 'C:/Users/ghkdn\\\\NetHood',\n",
       " 'C:/Users/ghkdn\\\\NTUSER.DAT',\n",
       " 'C:/Users/ghkdn\\\\ntuser.dat.LOG1',\n",
       " 'C:/Users/ghkdn\\\\ntuser.dat.LOG2',\n",
       " 'C:/Users/ghkdn\\\\NTUSER.DAT{c08bc937-a89d-11e9-9a2e-0023571c2425}.TM.blf',\n",
       " 'C:/Users/ghkdn\\\\NTUSER.DAT{c08bc937-a89d-11e9-9a2e-0023571c2425}.TMContainer00000000000000000001.regtrans-ms',\n",
       " 'C:/Users/ghkdn\\\\NTUSER.DAT{c08bc937-a89d-11e9-9a2e-0023571c2425}.TMContainer00000000000000000002.regtrans-ms',\n",
       " 'C:/Users/ghkdn\\\\ntuser.ini',\n",
       " 'C:/Users/ghkdn\\\\OneDrive',\n",
       " 'C:/Users/ghkdn\\\\Pictures',\n",
       " 'C:/Users/ghkdn\\\\PrintHood',\n",
       " 'C:/Users/ghkdn\\\\Recent',\n",
       " 'C:/Users/ghkdn\\\\Saved Games',\n",
       " 'C:/Users/ghkdn\\\\Searches',\n",
       " 'C:/Users/ghkdn\\\\SendTo',\n",
       " 'C:/Users/ghkdn\\\\Templates',\n",
       " 'C:/Users/ghkdn\\\\Videos',\n",
       " 'C:/Users/ghkdn\\\\시작 메뉴']"
      ]
     },
     "execution_count": 51,
     "metadata": {},
     "output_type": "execute_result"
    }
   ],
   "source": [
    "import glob #디렉터리에 있는 파일들을 리스트로 만들기 \n",
    "dir_list = glob.glob(\"C:/Users/ghkdn/*\")\n",
    "dir_list"
   ]
  },
  {
   "cell_type": "code",
   "execution_count": 2,
   "metadata": {},
   "outputs": [
    {
     "name": "stdout",
     "output_type": "stream",
     "text": [
      "숫자를 입력하세요:12\n"
     ]
    }
   ],
   "source": [
    "while True:\n",
    "    try:\n",
    "        x = int(input(\"숫자를 입력하세요:\"))\n",
    "        break\n",
    "    except ValueError:\n",
    "        print(\"숫자가 아닙니다. 다시입력해주세요!\")"
   ]
  },
  {
   "cell_type": "code",
   "execution_count": 5,
   "metadata": {},
   "outputs": [
    {
     "name": "stdout",
     "output_type": "stream",
     "text": [
      "데이터를 숫자로 변환할 수 없습니다.\n"
     ]
    }
   ],
   "source": [
    "import string\n",
    "import sys\n",
    "try:\n",
    "    #1/0 \n",
    "    f = open(\"test.txt\")\n",
    "    s = f.readline()\n",
    "    i = int(string.strip(s))\n",
    "except IOError as err:\n",
    "    print(err)\n",
    "except ValueError:\n",
    "    print(\"데이터를 숫자로 변환할 수 없습니다.\")\n",
    "except:\n",
    "    print(\"예외 발생: {0}\".format(sys.exc_info()[0]))\n",
    "    "
   ]
  },
  {
   "cell_type": "code",
   "execution_count": 13,
   "metadata": {},
   "outputs": [],
   "source": [
    "# 클래스 예제\n",
    "import math\n",
    "\n",
    "class Point(object):\n",
    "    def __init__(self,x=0,y=0):\n",
    "        self.x = x #데이터의 속성(attribute)\n",
    "        self.y = y\n",
    "    def distance_from_objcet(self): #메서드 상속\n",
    "        return math.hypot(self.x,self.y)\n",
    "    \n",
    "    def __eq__(self,other):\n",
    "        return self.x == other.x and self.y ==other.y\n",
    "        "
   ]
  },
  {
   "cell_type": "code",
   "execution_count": 21,
   "metadata": {},
   "outputs": [],
   "source": [
    "# 스택: 배열의 긑에서만 데이터를 접근할 수 있는 선형 자료구조(LIFO구조)\n",
    "class Stack(object):\n",
    "    def __init__(self):\n",
    "        self.items = []\n",
    "    \n",
    "    def isEmpty(self):\n",
    "        return not bool(self.items) # bool은 0가 아니면 트루 \n",
    "    \n",
    "    def push(self, value):\n",
    "        self.items.append(value)\n",
    "        \n",
    "    def pop(self):\n",
    "        value = self.items.pop()\n",
    "        if value is not None:\n",
    "            return value \n",
    "        else:\n",
    "            print(\"Stack is Empty\")\n",
    "    \n",
    "    def size(self):\n",
    "        return len(self.items)\n",
    "    \n",
    "    def peek(self):\n",
    "        if self.items:\n",
    "            return self.items[-1]\n",
    "        else:\n",
    "            print(\"Stack is Empty\")"
   ]
  },
  {
   "cell_type": "code",
   "execution_count": 27,
   "metadata": {},
   "outputs": [
    {
     "name": "stdout",
     "output_type": "stream",
     "text": [
      "스택이 비었나요? True\n"
     ]
    },
    {
     "data": {
      "text/plain": [
       "[0, 1, 2, 3, 4, 5, 6, 7, 8, 9]"
      ]
     },
     "execution_count": 27,
     "metadata": {},
     "output_type": "execute_result"
    }
   ],
   "source": [
    "stack = Stack()\n",
    "print(\"스택이 비었나요? {0}\".format(stack.isEmpty()))\n",
    "for i in range(10):\n",
    "    stack.push(i)\n",
    "stack.items"
   ]
  },
  {
   "cell_type": "code",
   "execution_count": null,
   "metadata": {},
   "outputs": [],
   "source": []
  }
 ],
 "metadata": {
  "kernelspec": {
   "display_name": "Python 3",
   "language": "python",
   "name": "python3"
  },
  "language_info": {
   "codemirror_mode": {
    "name": "ipython",
    "version": 3
   },
   "file_extension": ".py",
   "mimetype": "text/x-python",
   "name": "python",
   "nbconvert_exporter": "python",
   "pygments_lexer": "ipython3",
   "version": "3.7.4"
  }
 },
 "nbformat": 4,
 "nbformat_minor": 2
}
