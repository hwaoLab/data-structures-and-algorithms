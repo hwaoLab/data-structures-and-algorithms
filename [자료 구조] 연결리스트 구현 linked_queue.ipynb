{
 "cells": [
  {
   "cell_type": "code",
   "execution_count": 23,
   "metadata": {},
   "outputs": [],
   "source": [
    "class Node(object):\n",
    "    def __init__(self, value=None, pointer = None):\n",
    "        self.value = value\n",
    "        self.pointer = None"
   ]
  },
  {
   "cell_type": "code",
   "execution_count": 70,
   "metadata": {},
   "outputs": [],
   "source": [
    "class LinkedQueue(object):\n",
    "    def __init__(self):\n",
    "        self.head = None\n",
    "        self.tail = None \n",
    "        self.count = 0\n",
    "        \n",
    "    def isEmpty(self):\n",
    "        return not bool(self.head)\n",
    "    \n",
    "    def dequeue(self):\n",
    "        if self.head:       \n",
    "            value = self.head.value\n",
    "            self.head = self.head.pointer\n",
    "            self.count -= 1\n",
    "            return value\n",
    "        else:\n",
    "            print(\"Queue is empty!\")\n",
    "\n",
    "    def enqueue(self,value):\n",
    "        node = Node(value)\n",
    "        if not self.head:\n",
    "            self.head = node\n",
    "            self.tail = node\n",
    "        else:\n",
    "            if self.tail:\n",
    "                self.tail.pointer = node\n",
    "            self.tail = node\n",
    "        self.count +=1\n",
    "    \n",
    "    def size(self):\n",
    "        return self.count\n",
    "    \n",
    "    def peek(self):\n",
    "        return self.head.value\n",
    "    \n",
    "    def print(self):\n",
    "        node = self.head\n",
    "        while node:\n",
    "            print(\"value:\",node.value, end =\"\\n \")\n",
    "            print(\"node:\",node)\n",
    "            print(\"tail:\",self.tail)\n",
    "            print(\"pointer:\",self.head.pointer)\n",
    "            node = node.pointer\n",
    "        print()\n",
    "LinkedQueue = LinkedQueue()"
   ]
  },
  {
   "cell_type": "code",
   "execution_count": 71,
   "metadata": {},
   "outputs": [
    {
     "name": "stdout",
     "output_type": "stream",
     "text": [
      "value: 0\n",
      " node: <__main__.Node object at 0x000001B1345433C8>\n",
      "tail: <__main__.Node object at 0x000001B1345433C8>\n",
      "pointer: None\n",
      "\n",
      "value: 0\n",
      " node: <__main__.Node object at 0x000001B1345433C8>\n",
      "tail: <__main__.Node object at 0x000001B134543888>\n",
      "pointer: <__main__.Node object at 0x000001B134543888>\n",
      "value: 1\n",
      " node: <__main__.Node object at 0x000001B134543888>\n",
      "tail: <__main__.Node object at 0x000001B134543888>\n",
      "pointer: <__main__.Node object at 0x000001B134543888>\n",
      "\n",
      "value: 0\n",
      " node: <__main__.Node object at 0x000001B1345433C8>\n",
      "tail: <__main__.Node object at 0x000001B134543648>\n",
      "pointer: <__main__.Node object at 0x000001B134543888>\n",
      "value: 1\n",
      " node: <__main__.Node object at 0x000001B134543888>\n",
      "tail: <__main__.Node object at 0x000001B134543648>\n",
      "pointer: <__main__.Node object at 0x000001B134543888>\n",
      "value: 2\n",
      " node: <__main__.Node object at 0x000001B134543648>\n",
      "tail: <__main__.Node object at 0x000001B134543648>\n",
      "pointer: <__main__.Node object at 0x000001B134543888>\n",
      "\n",
      "value: 0\n",
      " node: <__main__.Node object at 0x000001B1345433C8>\n",
      "tail: <__main__.Node object at 0x000001B134514F48>\n",
      "pointer: <__main__.Node object at 0x000001B134543888>\n",
      "value: 1\n",
      " node: <__main__.Node object at 0x000001B134543888>\n",
      "tail: <__main__.Node object at 0x000001B134514F48>\n",
      "pointer: <__main__.Node object at 0x000001B134543888>\n",
      "value: 2\n",
      " node: <__main__.Node object at 0x000001B134543648>\n",
      "tail: <__main__.Node object at 0x000001B134514F48>\n",
      "pointer: <__main__.Node object at 0x000001B134543888>\n",
      "value: 3\n",
      " node: <__main__.Node object at 0x000001B134514F48>\n",
      "tail: <__main__.Node object at 0x000001B134514F48>\n",
      "pointer: <__main__.Node object at 0x000001B134543888>\n",
      "\n"
     ]
    }
   ],
   "source": [
    "if __name__ == '__main__':# 이 파이썬 모듈이 main이면\n",
    "    for i in range(4):\n",
    "        LinkedQueue.enqueue(i)\n",
    "        LinkedQueue.print()\n",
    "        #print(LinkedQueue.head)\n",
    "        #print(LinkedQueue.tail)"
   ]
  },
  {
   "cell_type": "code",
   "execution_count": null,
   "metadata": {},
   "outputs": [],
   "source": []
  },
  {
   "cell_type": "code",
   "execution_count": null,
   "metadata": {},
   "outputs": [],
   "source": []
  }
 ],
 "metadata": {
  "kernelspec": {
   "display_name": "Python 3",
   "language": "python",
   "name": "python3"
  },
  "language_info": {
   "codemirror_mode": {
    "name": "ipython",
    "version": 3
   },
   "file_extension": ".py",
   "mimetype": "text/x-python",
   "name": "python",
   "nbconvert_exporter": "python",
   "pygments_lexer": "ipython3",
   "version": "3.7.4"
  }
 },
 "nbformat": 4,
 "nbformat_minor": 2
}
