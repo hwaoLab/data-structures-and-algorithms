{
 "cells": [
  {
   "cell_type": "code",
   "execution_count": 3,
   "metadata": {},
   "outputs": [
    {
     "data": {
      "text/plain": [
       "['C:\\\\Users\\\\ghkdn\\\\DataStructure_Algorithms',\n",
       " 'C:\\\\Users\\\\ghkdn\\\\AppData\\\\Local\\\\Continuum\\\\anaconda3\\\\python37.zip',\n",
       " 'C:\\\\Users\\\\ghkdn\\\\AppData\\\\Local\\\\Continuum\\\\anaconda3\\\\DLLs',\n",
       " 'C:\\\\Users\\\\ghkdn\\\\AppData\\\\Local\\\\Continuum\\\\anaconda3\\\\lib',\n",
       " 'C:\\\\Users\\\\ghkdn\\\\AppData\\\\Local\\\\Continuum\\\\anaconda3',\n",
       " '',\n",
       " 'C:\\\\Users\\\\ghkdn\\\\AppData\\\\Local\\\\Continuum\\\\anaconda3\\\\lib\\\\site-packages',\n",
       " 'C:\\\\Users\\\\ghkdn\\\\AppData\\\\Local\\\\Continuum\\\\anaconda3\\\\lib\\\\site-packages\\\\win32',\n",
       " 'C:\\\\Users\\\\ghkdn\\\\AppData\\\\Local\\\\Continuum\\\\anaconda3\\\\lib\\\\site-packages\\\\win32\\\\lib',\n",
       " 'C:\\\\Users\\\\ghkdn\\\\AppData\\\\Local\\\\Continuum\\\\anaconda3\\\\lib\\\\site-packages\\\\Pythonwin',\n",
       " 'C:\\\\Users\\\\ghkdn\\\\AppData\\\\Local\\\\Continuum\\\\anaconda3\\\\lib\\\\site-packages\\\\IPython\\\\extensions',\n",
       " 'C:\\\\Users\\\\ghkdn\\\\.ipython']"
      ]
     },
     "execution_count": 3,
     "metadata": {},
     "output_type": "execute_result"
    }
   ],
   "source": [
    "#sys.path 모델dmf 검색할 경로를 담은 문자열 리스트\n",
    "import sys\n",
    "sys.path"
   ]
  },
  {
   "cell_type": "code",
   "execution_count": 20,
   "metadata": {},
   "outputs": [
    {
     "name": "stdout",
     "output_type": "stream",
     "text": [
      "False True\n"
     ]
    }
   ],
   "source": [
    "def f (x): return x%2 !=0 and x %3 !=0\n",
    "print(f(33),f(17))"
   ]
  },
  {
   "cell_type": "code",
   "execution_count": 22,
   "metadata": {},
   "outputs": [
    {
     "data": {
      "text/plain": [
       "[5, 7, 11, 13, 17, 19, 23]"
      ]
     },
     "execution_count": 22,
     "metadata": {},
     "output_type": "execute_result"
    }
   ],
   "source": [
    "list(filter(f,range(2,25))) \n",
    "# filter메소드는 시퀀스의 항목들 중 함수조건이 true인 것만 반환"
   ]
  },
  {
   "cell_type": "code",
   "execution_count": 23,
   "metadata": {},
   "outputs": [
    {
     "data": {
      "text/plain": [
       "[1, 8, 27, 64, 125, 216, 343, 512, 729, 1000]"
      ]
     },
     "execution_count": 23,
     "metadata": {},
     "output_type": "execute_result"
    }
   ],
   "source": [
    "def cube(x): return x*x*x\n",
    "list(map(cube,range(1,11))) \n",
    "# map은 모든 항목에 함수를 적용한 결과 리스트를 반환"
   ]
  },
  {
   "cell_type": "code",
   "execution_count": 24,
   "metadata": {},
   "outputs": [
    {
     "data": {
      "text/plain": [
       "10.0"
      ]
     },
     "execution_count": 24,
     "metadata": {},
     "output_type": "execute_result"
    }
   ],
   "source": [
    "def area(b,h):\n",
    "    return 0.5*b*h\n",
    "\n",
    "area(5,4)"
   ]
  },
  {
   "cell_type": "code",
   "execution_count": 26,
   "metadata": {},
   "outputs": [
    {
     "data": {
      "text/plain": [
       "10.0"
      ]
     },
     "execution_count": 26,
     "metadata": {},
     "output_type": "execute_result"
    }
   ],
   "source": [
    "area = lambda b, h: 0.5*b*h\n",
    "area(5,4)"
   ]
  },
  {
   "cell_type": "code",
   "execution_count": 27,
   "metadata": {},
   "outputs": [],
   "source": [
    "# 람다함수 -> defaultdict에서 키 생성 시 누락된 키에 대한 기본값 설정에 유용\n",
    "import collections\n",
    "minus_one_dict = collections.defaultdict(lambda: -1)\n",
    "point_zero_dict = collections.defaultdict(lambda: (0,0))"
   ]
  },
  {
   "cell_type": "code",
   "execution_count": 29,
   "metadata": {},
   "outputs": [
    {
     "name": "stdout",
     "output_type": "stream",
     "text": [
      "sys.argv 길이 :  3\n",
      "arg value =  C:\\Users\\ghkdn\\AppData\\Local\\Continuum\\anaconda3\\lib\\site-packages\\ipykernel_launcher.py\n",
      "arg value =  -f\n",
      "arg value =  C:\\Users\\ghkdn\\AppData\\Roaming\\jupyter\\runtime\\kernel-35d03fe3-73aa-4235-86b6-d1b63b928426.json\n"
     ]
    }
   ],
   "source": [
    "#sys.argv 는 배열입니다. sys.argv[0]에는 기본적으로 python 실행파일의 경로가 담겨 있다.\n",
    "import sys \n",
    "print('sys.argv 길이 : ', len(sys.argv))                                             \n",
    "for arg in sys.argv: \n",
    "    print('arg value = ', arg) "
   ]
  },
  {
   "cell_type": "code",
   "execution_count": 30,
   "metadata": {},
   "outputs": [],
   "source": [
    "# 파일을 가져와서 특정 단어가 나타나는 위치를 출력하는 함수\n",
    "def grep_word_from_files():\n",
    "    word = sys.argv[1]\n",
    "    for filename in sys.argv[2:]:\n",
    "        with open(filename) as file:\n",
    "            for lino, line in enumerate(file,start=1):\n",
    "                print(\"{0}:{1}:{2:.40}\".format(filename, lino, line.rstrip()))"
   ]
  },
  {
   "cell_type": "code",
   "execution_count": 31,
   "metadata": {},
   "outputs": [
    {
     "name": "stdout",
     "output_type": "stream",
     "text": [
      "C:\\Users\\ghkdn\\AppData\\Roaming\\jupyter\\runtime\\kernel-35d03fe3-73aa-4235-86b6-d1b63b928426.json:1:{\n",
      "C:\\Users\\ghkdn\\AppData\\Roaming\\jupyter\\runtime\\kernel-35d03fe3-73aa-4235-86b6-d1b63b928426.json:2:  \"shell_port\": 1326,\n",
      "C:\\Users\\ghkdn\\AppData\\Roaming\\jupyter\\runtime\\kernel-35d03fe3-73aa-4235-86b6-d1b63b928426.json:3:  \"iopub_port\": 1327,\n",
      "C:\\Users\\ghkdn\\AppData\\Roaming\\jupyter\\runtime\\kernel-35d03fe3-73aa-4235-86b6-d1b63b928426.json:4:  \"stdin_port\": 1328,\n",
      "C:\\Users\\ghkdn\\AppData\\Roaming\\jupyter\\runtime\\kernel-35d03fe3-73aa-4235-86b6-d1b63b928426.json:5:  \"control_port\": 1329,\n",
      "C:\\Users\\ghkdn\\AppData\\Roaming\\jupyter\\runtime\\kernel-35d03fe3-73aa-4235-86b6-d1b63b928426.json:6:  \"hb_port\": 1330,\n",
      "C:\\Users\\ghkdn\\AppData\\Roaming\\jupyter\\runtime\\kernel-35d03fe3-73aa-4235-86b6-d1b63b928426.json:7:  \"ip\": \"127.0.0.1\",\n",
      "C:\\Users\\ghkdn\\AppData\\Roaming\\jupyter\\runtime\\kernel-35d03fe3-73aa-4235-86b6-d1b63b928426.json:8:  \"key\": \"6d1efa60-ef160b7446865987af8b6\n",
      "C:\\Users\\ghkdn\\AppData\\Roaming\\jupyter\\runtime\\kernel-35d03fe3-73aa-4235-86b6-d1b63b928426.json:9:  \"transport\": \"tcp\",\n",
      "C:\\Users\\ghkdn\\AppData\\Roaming\\jupyter\\runtime\\kernel-35d03fe3-73aa-4235-86b6-d1b63b928426.json:10:  \"signature_scheme\": \"hmac-sha256\",\n",
      "C:\\Users\\ghkdn\\AppData\\Roaming\\jupyter\\runtime\\kernel-35d03fe3-73aa-4235-86b6-d1b63b928426.json:11:  \"kernel_name\": \"\"\n",
      "C:\\Users\\ghkdn\\AppData\\Roaming\\jupyter\\runtime\\kernel-35d03fe3-73aa-4235-86b6-d1b63b928426.json:12:}\n"
     ]
    }
   ],
   "source": [
    "if __name__ == \"__main__\":\n",
    "    if len(sys.argv) < 2:\n",
    "        print(\"Usage: python {0} [word][file...]\".format(sys.argv[0]))\n",
    "        sys.exit()\n",
    "    else:\n",
    "        grep_word_from_files()"
   ]
  },
  {
   "cell_type": "code",
   "execution_count": 32,
   "metadata": {},
   "outputs": [
    {
     "data": {
      "text/plain": [
       "'-f'"
      ]
     },
     "execution_count": 32,
     "metadata": {},
     "output_type": "execute_result"
    }
   ],
   "source": [
    "sys.argv[1]"
   ]
  },
  {
   "cell_type": "code",
   "execution_count": null,
   "metadata": {},
   "outputs": [],
   "source": []
  }
 ],
 "metadata": {
  "kernelspec": {
   "display_name": "Python 3",
   "language": "python",
   "name": "python3"
  },
  "language_info": {
   "codemirror_mode": {
    "name": "ipython",
    "version": 3
   },
   "file_extension": ".py",
   "mimetype": "text/x-python",
   "name": "python",
   "nbconvert_exporter": "python",
   "pygments_lexer": "ipython3",
   "version": "3.7.4"
  }
 },
 "nbformat": 4,
 "nbformat_minor": 2
}
