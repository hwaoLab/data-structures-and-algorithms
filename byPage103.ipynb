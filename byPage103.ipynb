{
 "cells": [
  {
   "cell_type": "code",
   "execution_count": 37,
   "metadata": {},
   "outputs": [],
   "source": [
    "def setdefault_dict(dict_data):\n",
    "    new_data = {}\n",
    "    for k,v in dict_data:\n",
    "        print(k,v)\n",
    "        new_data.setdefault(k,[\"옴뇸뇸\"]).append(v) \n",
    "        #초반에 dict_data에서 key1,key2에 대한 키값이 없기 떄문에 \n",
    "        #옴뇸뇸을 반환하고 옴뇸뇸이라는 키가 들어간 이후에는 new_data에 생성되기 때문에, 그대로 값을 넣어준다.\n",
    "        # A.setdefault(key,default) #키가 존재할 경우 해당 키에 대한 값을 반환 but 없을 경우, 새 키와 기본값 default가 딕셔너리에 저장\n",
    "    return new_data"
   ]
  },
  {
   "cell_type": "code",
   "execution_count": 38,
   "metadata": {},
   "outputs": [
    {
     "name": "stdout",
     "output_type": "stream",
     "text": [
      "key1 value1\n",
      "key1 value2\n",
      "key2 value3\n",
      "key2 value4\n",
      "key2 value5\n"
     ]
    },
    {
     "data": {
      "text/plain": [
       "{'key1': ['옴뇸뇸', 'value1', 'value2'],\n",
       " 'key2': ['옴뇸뇸', 'value3', 'value4', 'value5']}"
      ]
     },
     "execution_count": 38,
     "metadata": {},
     "output_type": "execute_result"
    }
   ],
   "source": [
    "dict_data = ((\"key1\",\"value1\"),(\"key1\",\"value2\"),(\"key2\",\"value3\"),(\"key2\",\"value4\"),(\"key2\",\"value5\"))\n",
    "setdefault_dict(dict_data)"
   ]
  },
  {
   "cell_type": "code",
   "execution_count": 36,
   "metadata": {},
   "outputs": [
    {
     "name": "stdout",
     "output_type": "stream",
     "text": [
      "{'key1': ['value1', 'value2'], 'key2': ['value3', 'value4', 'value5']}\n",
      "['value5']\n"
     ]
    }
   ],
   "source": [
    "DATA_SOURCE = (('key1', 'value1'),\n",
    "               ('key1', 'value2'),\n",
    "               ('key2', 'value3'),\n",
    "               ('key2', 'value4'),\n",
    "               ('key2', 'value5'),)\n",
    "\n",
    "newdata = {}\n",
    "for k, v in DATA_SOURCE:\n",
    "    if k in newdata.keys():\n",
    "        newdata[k].append(v)\n",
    "    else:\n",
    "        newdata[k] = [v] # 딕션에서 값은 리스트로 반환하기 때문에, [v]를 입력할 것 \n",
    "# Data_Source를 체크하다가 newdata에 없는 키에 대해서는 \n",
    "\"\"\"\n",
    "같은 의미 \n",
    "newdata = {}\n",
    "for k, v in DATA_SOURCE:\n",
    "    newdata.setdefault(k, []).append(v)\n",
    "print newdata\n",
    "\"\"\""
   ]
  },
  {
   "cell_type": "code",
   "execution_count": 59,
   "metadata": {
    "collapsed": true
   },
   "outputs": [
    {
     "name": "stdout",
     "output_type": "stream",
     "text": [
      "name\n",
      "젠더\n",
      "age\n",
      "17\n",
      "hobby\n",
      "게임\n",
      "('name', '젠더')\n",
      "<class 'tuple'>\n",
      "('age', 17)\n",
      "<class 'tuple'>\n",
      "('hobby', '게임')\n",
      "<class 'tuple'>\n"
     ]
    }
   ],
   "source": [
    "sunnydale = dict(name = \"젠더\", age=17, hobby =\"게임\")\n",
    "for i in sunnydale.keys():\n",
    "    print(i)\n",
    "    print(sunnydale.get(i))\n",
    "sunnydale_copy =sunnydale.items()\n",
    "for i in sunnydale_copy:\n",
    "    print(i)\n",
    "    print(type(i))#sunnydale.itmes은 키와 값을 튜플로 묶어 쌍으로 반환"
   ]
  },
  {
   "cell_type": "code",
   "execution_count": 62,
   "metadata": {},
   "outputs": [
    {
     "name": "stdout",
     "output_type": "stream",
     "text": [
      "name 젠더\n",
      "age 17\n",
      "hobby 게임\n"
     ]
    }
   ],
   "source": [
    "for key in sunnydale.keys():\n",
    "    print(key, sunnydale[key])"
   ]
  },
  {
   "cell_type": "code",
   "execution_count": 100,
   "metadata": {},
   "outputs": [],
   "source": [
    "# orderedDict\n",
    "from collections import OrderedDict\n",
    "\n",
    "def orderedDict_example():\n",
    "    pairs = [(\"c\",1),(\"b\",2),(\"a\",3)]\n",
    "    \n",
    "    # 일반 딕션너리 \n",
    "    d1 = {}\n",
    "    print(\"d1\")\n",
    "    for key,value in pairs:\n",
    "        if key not in d1:\n",
    "            d1[key] = []\n",
    "        d1[key].append(value)\n",
    "        \n",
    "    for key in d1:\n",
    "        print(key, d1[key])\n",
    "            \n",
    "    # orderedDict\n",
    "    print(\"d2\")\n",
    "    d2 = OrderedDict(pairs)\n",
    "    for key in d2:\n",
    "        print(key, d2[key])\n",
    "    return d2"
   ]
  },
  {
   "cell_type": "code",
   "execution_count": 101,
   "metadata": {},
   "outputs": [
    {
     "name": "stdout",
     "output_type": "stream",
     "text": [
      "d1\n",
      "c [1]\n",
      "b [2]\n",
      "a [3]\n",
      "d2\n",
      "c 1\n",
      "b 2\n",
      "a 3\n",
      "<class 'collections.OrderedDict'>\n"
     ]
    }
   ],
   "source": [
    "dict2 = orderedDict_example()\n",
    "print(type(dict2))"
   ]
  },
  {
   "cell_type": "code",
   "execution_count": 103,
   "metadata": {},
   "outputs": [],
   "source": [
    "from collections import Counter \n",
    "\n",
    "def counter_example():\n",
    "    seq1 = [1,2,3,4,5,5,6,6,7,8,1,4]\n",
    "    seq_counts = Counter(seq1)\n",
    "    print(seq_counts)"
   ]
  },
  {
   "cell_type": "code",
   "execution_count": 105,
   "metadata": {},
   "outputs": [
    {
     "name": "stdout",
     "output_type": "stream",
     "text": [
      "Counter({1: 2, 4: 2, 5: 2, 6: 2, 2: 1, 3: 1, 7: 1, 8: 1})\n"
     ]
    }
   ],
   "source": [
    "counter_example() # 항목의 발생횟수를 딕션을 반환 "
   ]
  },
  {
   "cell_type": "code",
   "execution_count": 122,
   "metadata": {},
   "outputs": [],
   "source": [
    "# 단어횟수 세기\n",
    "from collections import Counter\n",
    "\n",
    "def find_top_N_recurring_words(seq,N):\n",
    "    dcounter = Counter()\n",
    "    for word in seq.split():\n",
    "        dcounter[word] +=1 # 체크 횟수(counter)가 딕션의 값이 된다. \n",
    "        print(dcounter)\n",
    "    return dcounter.most_common(N)\n",
    "def test_find_top_N_recurring_words():\n",
    "    seq = \"버피 에인절 몬스터 잰더 윌로 버피 몬스터 슈퍼 버피 에인절\"\n",
    "    N = 3\n",
    "    assert(find_top_N_recurring_words(seq,N) == [(\"버피\",3),(\"에인절\",2),(\"몬스터\",2)])\n",
    "    print(\"테스트 통과!\")"
   ]
  },
  {
   "cell_type": "code",
   "execution_count": 123,
   "metadata": {},
   "outputs": [
    {
     "name": "stdout",
     "output_type": "stream",
     "text": [
      "Counter({'버피': 1})\n",
      "Counter({'버피': 1, '에인절': 1})\n",
      "Counter({'버피': 1, '에인절': 1, '몬스터': 1})\n",
      "Counter({'버피': 1, '에인절': 1, '몬스터': 1, '잰더': 1})\n",
      "Counter({'버피': 1, '에인절': 1, '몬스터': 1, '잰더': 1, '윌로': 1})\n",
      "Counter({'버피': 2, '에인절': 1, '몬스터': 1, '잰더': 1, '윌로': 1})\n",
      "Counter({'버피': 2, '몬스터': 2, '에인절': 1, '잰더': 1, '윌로': 1})\n",
      "Counter({'버피': 2, '몬스터': 2, '에인절': 1, '잰더': 1, '윌로': 1, '슈퍼': 1})\n",
      "Counter({'버피': 3, '몬스터': 2, '에인절': 1, '잰더': 1, '윌로': 1, '슈퍼': 1})\n",
      "Counter({'버피': 3, '에인절': 2, '몬스터': 2, '잰더': 1, '윌로': 1, '슈퍼': 1})\n",
      "테스트 통과!\n"
     ]
    }
   ],
   "source": [
    "test_find_top_N_recurring_words()"
   ]
  },
  {
   "cell_type": "code",
   "execution_count": 127,
   "metadata": {},
   "outputs": [],
   "source": [
    "# 애너 그램(단어의 철자 순서를 바꾸는 놀이)\n",
    "\n",
    "from collections import Counter \n",
    "def is_anagram(s1,s2):\n",
    "    counter = Counter()\n",
    "    for c in s1:\n",
    "        counter[c] +=1 # 딕션의 값으로서 카운터 추가 \n",
    "    for c in s2:\n",
    "        counter[c] -=1 \n",
    "    for i in counter.values(): \n",
    "        if i: # i가 0이 아닌 값이 있다는 것은 counter+1 한 것과 counter -1한것을 더해 0이 아닌 것 \n",
    "              # => 즉 애너그램이 아님 why? 항목의 갸수가 다르기 떄문에,\n",
    "            return False\n",
    "    return True\n",
    "def test_is_anagram():\n",
    "    s1 = \"marina\"\n",
    "    s2 = \"aniram\"\n",
    "    assert(is_anagram(s1,s2) is True)\n",
    "    s1 = \"google\"\n",
    "    s2 = \"gougol\"\n",
    "    assert(is_anagram(s1,s2)is False)\n",
    "    print(\"테스트 통과!\")"
   ]
  },
  {
   "cell_type": "code",
   "execution_count": 129,
   "metadata": {},
   "outputs": [
    {
     "name": "stdout",
     "output_type": "stream",
     "text": [
      "테스트 통과\n"
     ]
    }
   ],
   "source": [
    "test_is_anagram()"
   ]
  },
  {
   "cell_type": "code",
   "execution_count": 167,
   "metadata": {},
   "outputs": [],
   "source": [
    "# 주사위 합계 경로 ex. 5가 나올 수 있는 경로 [1,4], [2,3] 등\n",
    "from collections import Counter, defaultdict\n",
    "\n",
    "def find_dice_probabilities(S,n_faces = 6):\n",
    "    if S < 2 or S > 2*n_faces:\n",
    "        return None\n",
    "    cdict = Counter()\n",
    "    ddict = defaultdict(list)\n",
    "    \n",
    "    # 두 주사위 합을 모두 더해서 dict에 넣는다 \n",
    "    for dice1 in range(1, n_faces+1): # +1을 안하면 n_faces전 까지 for문이 돌아가지 때문에, 5에서 끝남\n",
    "        for dice2 in range(1, n_faces+1):\n",
    "            t = [dice1,dice2]\n",
    "            cdict[dice1+dice2] +=1\n",
    "            ddict[dice1+dice2].append(t) # key값이 dice1+dice2인 곳에 value t를 넣기 \n",
    "    return [cdict[S],ddict[S]]"
   ]
  },
  {
   "cell_type": "code",
   "execution_count": 168,
   "metadata": {},
   "outputs": [
    {
     "name": "stdout",
     "output_type": "stream",
     "text": [
      "[4, [[1, 4], [2, 3], [3, 2], [4, 1]]]\n"
     ]
    }
   ],
   "source": [
    "def test_find_dice_probabilities():\n",
    "    n_faces = 6\n",
    "    S =5\n",
    "    results = find_dice_probabilities(S,n_faces)\n",
    "    print(results)\n",
    "    \n",
    "if __name__ ==\"__main__\":\n",
    "    test_find_dice_probabilities()"
   ]
  },
  {
   "cell_type": "code",
   "execution_count": 169,
   "metadata": {},
   "outputs": [
    {
     "data": {
      "text/plain": [
       "\"\\ndefault 값으로 list를 줬을때 작동방식 \\n\\n>>> list_dict = defaultdict(list)\\n\\n>>> list_dict\\n\\ndefaultdict(<class 'list'>, {})                              # 디폴트값이 list인 딕셔너리\\n\\n>>> list_dict['key1']                                       # 값을 지정하지 않으면 빈 리스트로 초기화\\n\\n[]\\n\\n>>> list_dict['key2'] = 'test'                             # 값을 지정하면 해당값으로 초기화\\n\\n>>> list_dict\\n\\ndefaultdict(<class 'list'>, {'key1': [], 'key2': 'test'})   \\n\\n\\n\\n출처: https://dongdongfather.tistory.com/69 [파이 키우기]\\n\""
      ]
     },
     "execution_count": 169,
     "metadata": {},
     "output_type": "execute_result"
    }
   ],
   "source": [
    "'''\n",
    "default 값으로 list를 줬을때 작동방식 \n",
    "\n",
    ">>> list_dict = defaultdict(list)\n",
    "\n",
    ">>> list_dict\n",
    "\n",
    "defaultdict(<class 'list'>, {})                              # 디폴트값이 list인 딕셔너리\n",
    "\n",
    ">>> list_dict['key1']                                       # 값을 지정하지 않으면 빈 리스트로 초기화\n",
    "\n",
    "[]\n",
    "\n",
    ">>> list_dict['key2'] = 'test'                             # 값을 지정하면 해당값으로 초기화\n",
    "\n",
    ">>> list_dict\n",
    "\n",
    "defaultdict(<class 'list'>, {'key1': [], 'key2': 'test'})   \n",
    "\n",
    "\n",
    "\n",
    "출처: https://dongdongfather.tistory.com/69 [파이 키우기]\n",
    "'''"
   ]
  },
  {
   "cell_type": "code",
   "execution_count": 170,
   "metadata": {},
   "outputs": [
    {
     "data": {
      "text/plain": [
       "defaultdict(list, {'key1': 'string'})"
      ]
     },
     "execution_count": 170,
     "metadata": {},
     "output_type": "execute_result"
    }
   ],
   "source": [
    "from collections import defaultdict\n",
    "list_dict = defaultdict(list) # list_dict의 기본값은 list\n",
    "list_dict['key1'] = 'string'\n",
    "list_dict"
   ]
  },
  {
   "cell_type": "code",
   "execution_count": 196,
   "metadata": {},
   "outputs": [
    {
     "name": "stdout",
     "output_type": "stream",
     "text": [
      "oole\n",
      "le\n",
      "테스트 통과!\n"
     ]
    }
   ],
   "source": [
    "# 단어의 중복 문자 제거 \n",
    "\n",
    "import string \n",
    "\n",
    "def delete_unique_word(str1):\n",
    "    table_c = {key:0 for key in string.ascii_lowercase}\n",
    "    for i in str1:\n",
    "        table_c[i] +=1 \n",
    "    for key,value in table_c.items():\n",
    "        if value >1 :\n",
    "            str1 = str1.replace(key,\"\") \n",
    "            # 값에서 1이상인 값은 카운트가 1이상인 유일값이 아니다. 따라서, key에 해당하는 값을 str에서 제거한다.\n",
    "            # replace에서 \"\"공백으로 제거\n",
    "            print(str1)\n",
    "    return str1\n",
    "\n",
    "def test_delete_unique_word():\n",
    "    str1 = \"google\"\n",
    "    assert(delete_unique_word(str1) ==\"le\")\n",
    "    print(\"테스트 통과!\")\n",
    "\n",
    "if __name__ == \"__main__\":\n",
    "    test_delete_unique_word()"
   ]
  },
  {
   "cell_type": "code",
   "execution_count": 197,
   "metadata": {},
   "outputs": [
    {
     "name": "stdout",
     "output_type": "stream",
     "text": [
      "a 0\n",
      "b 0\n",
      "c 0\n",
      "d 0\n",
      "e 0\n",
      "f 0\n",
      "g 0\n",
      "h 0\n",
      "i 0\n",
      "j 0\n",
      "k 0\n",
      "l 0\n",
      "m 0\n",
      "n 0\n",
      "o 0\n",
      "p 0\n",
      "q 0\n",
      "r 0\n",
      "s 0\n",
      "t 0\n",
      "u 0\n",
      "v 0\n",
      "w 0\n",
      "x 0\n",
      "y 0\n",
      "z 0\n"
     ]
    }
   ],
   "source": [
    "import string\n",
    "str1 = \"google\"\n",
    "table_c = {key:0 for key in string.ascii_lowercase} \n",
    "table_c\n",
    "'''\n",
    "# for문을 돌릴떄, dict자체로 돌릴 수 없다 => items로 튜플 세트를 만들어 주고 돌려야함\n",
    "for key,value in table_c:\n",
    "    print(key,value)\n",
    "'''\n",
    "for key,value in table_c.items():\n",
    "    print(key,value)"
   ]
  }
 ],
 "metadata": {
  "kernelspec": {
   "display_name": "Python 3",
   "language": "python",
   "name": "python3"
  },
  "language_info": {
   "codemirror_mode": {
    "name": "ipython",
    "version": 3
   },
   "file_extension": ".py",
   "mimetype": "text/x-python",
   "name": "python",
   "nbconvert_exporter": "python",
   "pygments_lexer": "ipython3",
   "version": "3.7.4"
  }
 },
 "nbformat": 4,
 "nbformat_minor": 2
}
